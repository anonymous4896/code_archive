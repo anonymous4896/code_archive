{
 "cells": [
  {
   "cell_type": "code",
   "execution_count": 1,
   "metadata": {},
   "outputs": [
    {
     "name": "stderr",
     "output_type": "stream",
     "text": [
      "2022-05-10 14:12:18.578852: W tensorflow/stream_executor/platform/default/dso_loader.cc:64] Could not load dynamic library 'libcudart.so.11.0'; dlerror: libcudart.so.11.0: cannot open shared object file: No such file or directory; LD_LIBRARY_PATH: /usr/local/lib64/:/usr/local/cuda-10.2/lib64:/usr/local/cuda-10.2/extras/CUPTI/lib64:\n",
      "2022-05-10 14:12:18.578889: I tensorflow/stream_executor/cuda/cudart_stub.cc:29] Ignore above cudart dlerror if you do not have a GPU set up on your machine.\n"
     ]
    }
   ],
   "source": [
    "import warnings\n",
    "warnings.filterwarnings('ignore')\n",
    "import tensorflow as tf\n",
    "tf.compat.v1.disable_eager_execution()\n",
    "import numpy as np\n",
    "from matplotlib import pyplot as plt\n",
    "\n",
    "from art.estimators.classification import KerasClassifier\n",
    "from art.attacks.evasion import FastGradientMethod, CarliniLInfMethod, ProjectedGradientDescent\n",
    "# from art.attacks.evasion.projected_gradient_descent.projected_gradient_descent_tensorflow_v2 import P\n",
    "\n",
    "# from keras.applications.xception import preprocess_input\n",
    "\n",
    "import os\n",
    "from tqdm.notebook import tqdm\n",
    "\n",
    "from PIL import Image\n",
    "\n",
    "os.environ[\"CUDA_VISIBLE_DEVICES\"] = \"1\""
   ]
  },
  {
   "cell_type": "code",
   "execution_count": 5,
   "metadata": {},
   "outputs": [],
   "source": [
    "val_path = \"/data_2/Anonymous/data/imagenet/labelled\"\n",
    "file_list = [\"{}/{}\".format(val_path, x) for x in os.listdir(val_path)]"
   ]
  },
  {
   "cell_type": "code",
   "execution_count": 15,
   "metadata": {},
   "outputs": [],
   "source": [
    "# model = tf.keras.applications.xception.Xception(weights=\"imagenet\")\n",
    "# model = tf.keras.applications.densenet.DenseNet121(weights=\"imagenet\")\n",
    "# from keras.applications.densenet import preprocess_input\n",
    "# model = tf.keras.applications.resnet.ResNet50(weights=\"imagenet\")\n",
    "# from keras.applications.resnet import preprocess_input\n",
    "# model = tf.keras.applications.resnet_v2.ResNet50V2(weights=\"imagenet\")\n",
    "# from keras.applications.resnet_v2 import preprocess_input\n",
    "model = tf.keras.applications.mobilenet.MobileNet(weights=\"imagenet\")\n",
    "from keras.applications.mobilenet import preprocess_input"
   ]
  },
  {
   "cell_type": "code",
   "execution_count": 16,
   "metadata": {},
   "outputs": [],
   "source": [
    "classifier = KerasClassifier(model=model, clip_values=(-1, 1))\n",
    "attack_fgsm = ProjectedGradientDescent(estimator=classifier, eps=0.3)"
   ]
  },
  {
   "cell_type": "code",
   "execution_count": 17,
   "metadata": {},
   "outputs": [
    {
     "name": "stdout",
     "output_type": "stream",
     "text": [
      "/data_2/Anonymous/data/imagenet/labelled/ILSVRC2012_val_00041289.n04009552.JPEG\n",
      "1.0 -1.0\n",
      "/data_2/Anonymous/data/imagenet/labelled/ILSVRC2012_val_00030787.n02125311.JPEG\n",
      "1.0 -1.0\n",
      "/data_2/Anonymous/data/imagenet/labelled/ILSVRC2012_val_00032733.n04252077.JPEG\n",
      "1.0 -1.0\n",
      "/data_2/Anonymous/data/imagenet/labelled/ILSVRC2012_val_00013928.n04200800.JPEG\n",
      "1.0 -1.0\n",
      "/data_2/Anonymous/data/imagenet/labelled/ILSVRC2012_val_00015594.n02669723.JPEG\n",
      "1.0 -1.0\n",
      "/data_2/Anonymous/data/imagenet/labelled/ILSVRC2012_val_00004917.n04070727.JPEG\n",
      "1.0 -1.0\n",
      "/data_2/Anonymous/data/imagenet/labelled/ILSVRC2012_val_00006099.n02802426.JPEG\n",
      "1.0 -1.0\n",
      "/data_2/Anonymous/data/imagenet/labelled/ILSVRC2012_val_00032611.n04116512.JPEG\n",
      "1.0 -1.0\n",
      "/data_2/Anonymous/data/imagenet/labelled/ILSVRC2012_val_00047634.n03393912.JPEG\n",
      "1.0 -1.0\n",
      "/data_2/Anonymous/data/imagenet/labelled/ILSVRC2012_val_00037186.n04069434.JPEG\n",
      "1.0 -1.0\n"
     ]
    }
   ],
   "source": [
    "from keras.applications.imagenet_utils import decode_predictions\n",
    "\n",
    "test_size = 10\n",
    "\n",
    "gt_arr = []\n",
    "out_arr = []\n",
    "adv_out_arr = []\n",
    "\n",
    "for file_path in file_list[:test_size]:\n",
    "    print(file_path)\n",
    "    gt = file_path.split(\".\")[-2]\n",
    "    \n",
    "    img = Image.open(file_list[0])\n",
    "    img = img.resize((224, 224))\n",
    "    # img.resize(1, img.shape[0], img.shape[1], 3)\n",
    "    # img = tf.constant(img)\n",
    "    x = np.expand_dims(img, axis=0)\n",
    "    x = preprocess_input(x)\n",
    "    print(np.max(x), np.min(x))\n",
    "    out = model.predict(x)\n",
    "    # print(decode_predictions(out))\n",
    "    out_arr.append(decode_predictions(out))\n",
    "    gt_arr.append(gt)\n",
    "    \n",
    "    # x_test_adv = attack_fgsm.generate(x)\n",
    "    # adv_out = model.predict(x_test_adv)\n",
    "    \n",
    "    # print(decode_predictions(adv_out))\n",
    "    # adv_out_arr.append(decode_predictions(adv_out))\n",
    "    \n",
    "    \n",
    "    "
   ]
  },
  {
   "cell_type": "code",
   "execution_count": 7,
   "metadata": {},
   "outputs": [],
   "source": [
    "import yaml\n",
    "config = yaml.safe_load(open(\"./adv_configs/xception.yml\", \"r\"))"
   ]
  },
  {
   "cell_type": "code",
   "execution_count": 8,
   "metadata": {},
   "outputs": [
    {
     "data": {
      "text/plain": [
       "{'test_size': 100,\n",
       " 'clip_min': -1,\n",
       " 'clip_max': 1,\n",
       " 'attack_eps': 0.3,\n",
       " 'model_name': 'Xception',\n",
       " 'image_shape': [299, 299]}"
      ]
     },
     "execution_count": 8,
     "metadata": {},
     "output_type": "execute_result"
    }
   ],
   "source": [
    "config"
   ]
  }
 ],
 "metadata": {
  "interpreter": {
   "hash": "b8559bc56280362ac4a83fb9144fe0dddf8b8d2e3eef0b8c805268e9624aba74"
  },
  "kernelspec": {
   "display_name": "Python 3.9.0 ('mob-dl-rev')",
   "language": "python",
   "name": "python3"
  },
  "language_info": {
   "codemirror_mode": {
    "name": "ipython",
    "version": 3
   },
   "file_extension": ".py",
   "mimetype": "text/x-python",
   "name": "python",
   "nbconvert_exporter": "python",
   "pygments_lexer": "ipython3",
   "version": "3.9.0"
  },
  "orig_nbformat": 4
 },
 "nbformat": 4,
 "nbformat_minor": 2
}
