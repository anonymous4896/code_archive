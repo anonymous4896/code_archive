{
 "cells": [
  {
   "cell_type": "code",
   "execution_count": 11,
   "metadata": {},
   "outputs": [],
   "source": [
    "import numpy as np\n",
    "import seaborn as sns\n",
    "import matplotlib.pyplot as plt\n",
    "import pandas as pd\n",
    "import os\n",
    "from collections import defaultdict\n",
    "import matplotlib as mpl\n",
    "from tqdm.notebook import tqdm\n",
    "# mpl.rcParams['font.family'] = 'Lato'\n",
    "# Apply the default theme\n",
    "sns.set_theme(font=\"Lato\")"
   ]
  },
  {
   "cell_type": "code",
   "execution_count": 25,
   "metadata": {},
   "outputs": [],
   "source": [
    "def _ssim(numpy1, numpy2, dtype='float32', max_val = 1.0):\n",
    "    import tensorflow as tf\n",
    "    if dtype == 'float32':\n",
    "        dtype = tf.float32\n",
    "    elif dtype == 'uint8':\n",
    "        dtype = tf.uint8\n",
    "\n",
    "    img1 = tf.keras.utils.array_to_img(numpy1, data_format=None, scale=True, dtype=None)\n",
    "    img2 = tf.keras.utils.array_to_img(numpy2, data_format=None, scale=True, dtype=None)\n",
    "    loss = tf.image.ssim(img1, img2, max_val, filter_size=11, filter_sigma=1.5, k1=0.01, k2=0.03)\n",
    "    return -1*loss \n",
    "\n",
    "\n",
    "def if_attack_success(res1, res2, method, **kwargs):\n",
    "    \"\"\"\n",
    "        @param: method: One of: [classification, ssim, ]\n",
    "    \"\"\"\n",
    "    if isinstance(res1, list):\n",
    "        res1 = np.array(res1)\n",
    "    if isinstance(res2, list):\n",
    "        res2 = np.array(res2)\n",
    "            \n",
    "    if method == \"score\":\n",
    "        divd = 1 \n",
    "        for a in res1.shape:\n",
    "            divd *= a \n",
    "        # print(kwargs[\"threshold\"])\n",
    "        res1_new = res1.flatten()\n",
    "        res2_new = res2.flatten()\n",
    "        ret1 = np.logical_and(res1_new <= kwargs[\"threshold\"] , res2_new > kwargs[\"threshold\"]) \n",
    "        ret2 = np.logical_and(res1_new >= kwargs[\"threshold\"] , res2_new < kwargs[\"threshold\"])\n",
    "        return 1 - ((np.sum(ret1!=0) + np.sum(ret2 != 0)) / divd)\n",
    "    elif method == \"classification\":\n",
    "        # res1 = res1.reshape(res1.shape[0], -1)\n",
    "        # res2 = res2.reshape(res2.shape[0], -1)\n",
    "        \n",
    "        if res1.shape[-1] != 1:\n",
    "            res1 = res1.reshape(-1, res1.shape[-1])\n",
    "            res2 = res2.reshape(-1, res2.shape[-1])\n",
    "        else:\n",
    "            res1 = res1.astype(np.uint8)\n",
    "            res2 = res2.astype(np.uint8)\n",
    "            return np.sum(res1 != res2) / np.prod(res1.shape)        \n",
    "        \n",
    "        # assert len(res1.shape) == 1\n",
    "        # idx1 = np.unravel_index(res1.argmax(-1),res1.shape)\n",
    "        # idx2 = np.unravel_index(res2.argmax(-1),res2.shape)\n",
    "        return np.sum(res1.argmax(-1) != res2.argmax(-1)) / res1.shape[0]\n",
    "    \n",
    "    elif method == \"ssim\":\n",
    "        loss = _ssim(res1, res2)\n",
    "        return loss \n",
    "    elif method == \"segmentation\":\n",
    "        divd = 1 \n",
    "        for a in res1.shape:\n",
    "            divd *= a \n",
    "        return np.sum((res1 == res2) !=0) / divd\n",
    "    elif method == \"segmentation_argmax\":\n",
    "        res1 = res1.argmax(axis=kwargs['axis'])\n",
    "        res2 = res2.argmax(axis=kwargs['axis'])\n",
    "        divd = 1 \n",
    "        for a in res1.shape:\n",
    "            divd *= a \n",
    "        return np.sum((res1 == res2) !=0) / divd\n",
    "    elif method == \"object_detection\":\n",
    "        print(res1)\n",
    "    elif method == \"euclidean\":\n",
    "        return np.sqrt(np.sum(np.square(res1 - res2)))\n"
   ]
  },
  {
   "cell_type": "code",
   "execution_count": 13,
   "metadata": {},
   "outputs": [
    {
     "name": "stdout",
     "output_type": "stream",
     "text": [
      "APK Counts: 33\n"
     ]
    }
   ],
   "source": [
    "path = \"/opt/Anonymous/workspace/mob-dl-rev/data/raw/numpys\"\n",
    "apk_paths = []\n",
    "for dir_name in os.listdir(path):\n",
    "    apk_paths.append(os.path.join(path, dir_name))\n",
    "print(\"APK Counts: {}\".format(len(apk_paths)))"
   ]
  },
  {
   "cell_type": "code",
   "execution_count": 14,
   "metadata": {},
   "outputs": [
    {
     "name": "stdout",
     "output_type": "stream",
     "text": [
      "Model Counts: 102\n",
      "TFLite Model Counts: 43\n",
      "TF Model Counts: 59\n"
     ]
    }
   ],
   "source": [
    "model_res_paths = []\n",
    "tflite_count = 0\n",
    "tf_count = 0\n",
    "for apk_path in apk_paths:\n",
    "    for dir_name in os.listdir(apk_path):\n",
    "        model_res_paths.append(os.path.join(apk_path, dir_name))\n",
    "        if dir_name.endswith(\"tflite\"):\n",
    "            tflite_count += 1\n",
    "        if dir_name.endswith(\"pb\"):\n",
    "            tf_count += 1\n",
    "\n",
    "print(\"Model Counts: {}\".format(len(model_res_paths)))\n",
    "print(\"TFLite Model Counts: {}\".format(tflite_count))\n",
    "print(\"TF Model Counts: {}\".format(tf_count))\n"
   ]
  },
  {
   "cell_type": "code",
   "execution_count": 23,
   "metadata": {},
   "outputs": [],
   "source": [
    "od_models = [\n",
    "              \"com.peace.SilentCamera/people_hq_384x384_1_1543961960_optimized.pb\",\n",
    "              \"com.steam.photoeditor_2019-07-04/224_1_1_optimized_3.pb\",\n",
    "              \"wallpaper.transparent/deeplabv3_mnv2_pascal_trainval.tflite\",\n",
    "              \"com.lanyueming.ps/lite-model_deeplabv3_1_metadata_2.tflite\",\n",
    "              \"com.blink.academy.nomo/deeplabv3_257_mv_gpu.tflite\",\n",
    "              \"ai.fritz.heartbeat_2019-04-25/hair_a050_224x224_5_1554502837.tflite\",\n",
    "              \"apk-com.ghost.sibyl/converted_model_v2_1.tflite\",\n",
    "            ]\n",
    "metric_modes = [\n",
    "                  [\"classification\", {}],\n",
    "                  [\"score\", {\"threshold\":0.5}],\n",
    "                  [\"classification\", {}],\n",
    "                  [\"classification\", {}],\n",
    "                  [\"classification\", {}],\n",
    "                  [\"classification\", {}],\n",
    "                  [\"classification\", {}],\n",
    "                  \n",
    "                  # [\"classification\", {}],\n",
    "                  # [\"classification\", {}],\n",
    "                  # [\"classification\", {}],\n",
    "                  # [\"score\", {\"threshold\":0.5}],\n",
    "                  # [\"score\", {\"threshold\":0.5}],\n",
    "                  # [\"score\", {\"threshold\":0.5}],\n",
    "                  # [\"classification\", {}],\n",
    "                  # [\"classification\", {}],\n",
    "                  # [\"score\", {\"threshold\":0.5}]\n",
    "                ]\n",
    "base_path = \"/opt/Anonymous/workspace/mob-dl-rev/data/raw/numpys/\"\n",
    "od_models = [os.path.join(base_path, x) for x in od_models]"
   ]
  },
  {
   "cell_type": "code",
   "execution_count": 26,
   "metadata": {},
   "outputs": [
    {
     "data": {
      "application/vnd.jupyter.widget-view+json": {
       "model_id": "62288b734c894de9b1cd9e3c01cded37",
       "version_major": 2,
       "version_minor": 0
      },
      "text/plain": [
       "  0%|          | 0/7 [00:00<?, ?it/s]"
      ]
     },
     "metadata": {},
     "output_type": "display_data"
    }
   ],
   "source": [
    "sample_names = []\n",
    "metric_dict = {}\n",
    "\n",
    "# available_paths = []\n",
    "# for model_res_path in model_res_paths:\n",
    "#     if model_res_path in cls_models:\n",
    "#         print(model_res_path)\n",
    "#         available_paths.append(model_res_path)\n",
    "\n",
    "iteration_times = [10, 20]\n",
    "attack_budgets = [8, 12, 16, 20, 24]\n",
    "\n",
    "for i in iteration_times:\n",
    "    for j in attack_budgets:\n",
    "        metric_dict[\"{}-{}\".format(i, j)] = []\n",
    "\n",
    "\n",
    "\n",
    "for path, metric_mode in tqdm(zip(od_models, metric_modes), total=len(od_models)):\n",
    "    # print(path)\n",
    "    ori_output = {}\n",
    "    # Find all original output\n",
    "    for filename in os.listdir(path):\n",
    "        if \"origin\" in filename:\n",
    "            sample_name = filename.split(\"origin\")[0][:-1]\n",
    "            ori_output[sample_name] = list(np.load(os.path.join(path, filename)).values())[0]\n",
    "            # print(ori_output[sample_name].shape)\n",
    "            # break\n",
    "    \n",
    "    # Compute Metric\n",
    "    tmp_dict = defaultdict(lambda: [])\n",
    "    ori_output_arr = []\n",
    "    for sample_name in ori_output:\n",
    "        ori_output_arr.append(ori_output[sample_name])\n",
    "        for i in iteration_times:\n",
    "            for j in attack_budgets:\n",
    "                tmp_name = \"{}_{}_{}.npz\".format(sample_name, i, j)\n",
    "                tmp_output = list(np.load(os.path.join(path, tmp_name)).values())[0]\n",
    "                tmp_dict[\"{}-{}\".format(i, j)].append(tmp_output)\n",
    "    \n",
    "    for i in iteration_times:\n",
    "        for j in attack_budgets:\n",
    "            tmp = if_attack_success(ori_output_arr, tmp_dict[\"{}-{}\".format(i, j)], method=metric_mode[0], **metric_mode[1])\n",
    "            metric_dict[\"{}-{}\".format(i, j)].append(tmp)\n",
    "        "
   ]
  },
  {
   "cell_type": "code",
   "execution_count": 27,
   "metadata": {},
   "outputs": [
    {
     "name": "stdout",
     "output_type": "stream",
     "text": [
      "[(1.0, 0.9), (0.9, 0.8), (0.8, 0.7), (0.7, 0.6), (0.6, 0.5), (0.5, 0.4), (0.4, 0.3), (0.3, 0.2), (0.2, 0.1)]\n"
     ]
    }
   ],
   "source": [
    "def cumulative(arr):\n",
    "    ans = []\n",
    "    for x in arr:\n",
    "        if len(ans) == 0:\n",
    "            ans.append(x)\n",
    "        else:\n",
    "            ans.append(ans[-1] + x)\n",
    "    return ans\n",
    "\n",
    "budgets = []\n",
    "iterations = []\n",
    "metric_data = []\n",
    "\n",
    "intervals = [(1.0, 0.9), (0.9, 0.8), (0.8, 0.7), (0.7, 0.6), (0.6, 0.5), (0.5, 0.4), (0.4, 0.3), (0.3, 0.2), (0.2, 0.1)]\n",
    "left_intv = [str(x[1]) for x in intervals]\n",
    "count_10 = defaultdict(lambda: [0 for _ in range(len(intervals))])\n",
    "count_20 = defaultdict(lambda: [0 for _ in range(len(intervals))])\n",
    "print(intervals)\n",
    "\n",
    "for k in metric_dict:\n",
    "    i, j = [int(x) for x in k.split(\"-\")]\n",
    "    if i == 10:\n",
    "        for x in metric_dict[k]:\n",
    "            for p, (tmp_left, tmp_right) in enumerate(intervals):\n",
    "                if x <= tmp_left and x > tmp_right:\n",
    "                    count_10[j][p] += 1\n",
    "                    break\n",
    "    else:\n",
    "        for x in metric_dict[k]:\n",
    "            for p, (tmp_left, tmp_right) in enumerate(intervals):\n",
    "                if x <= tmp_left and x > tmp_right:\n",
    "                    count_20[j][p] += 1\n",
    "                    break\n",
    "\n",
    "model_count = []\n",
    "eps_arr = []\n",
    "i = 0\n",
    "for k in count_10:\n",
    "    model_count += cumulative(count_10[k])\n",
    "    eps_arr += [attack_budgets[i]]*len(count_10[k])\n",
    "    i += 1\n",
    "\n",
    "i = 0\n",
    "for k in count_20:\n",
    "    model_count += cumulative(count_20[k])\n",
    "    eps_arr += [attack_budgets[i]]*len(count_20[k])\n",
    "    i += 1\n",
    "\n",
    "\n",
    "# df = pd.DataFrame({\"BUDGETS\": budgets, \"METRIC\":metric_data})\n",
    "df = pd.DataFrame({\"Attack Effect\": left_intv*(len(attack_budgets)*2), \n",
    "                   \"Epsilon\": eps_arr, \n",
    "                   \"Model Count\":model_count, \n",
    "                   \"Attack Iter\": [10]*(len(eps_arr)//2) + [20]*(len(eps_arr)//2),\n",
    "                   \"Task\": [\"Segmentation\"]*len(model_count)})\n"
   ]
  },
  {
   "cell_type": "code",
   "execution_count": 28,
   "metadata": {},
   "outputs": [],
   "source": [
    "df.loc[df[\"Attack Effect\"]=='0.6'].to_pickle(\"tmp_files/seg-06.pkl\")"
   ]
  },
  {
   "cell_type": "code",
   "execution_count": 29,
   "metadata": {},
   "outputs": [
    {
     "name": "stderr",
     "output_type": "stream",
     "text": [
      "/home/Anonymous/anaconda3/envs/mob-dl-rev/lib/python3.9/site-packages/seaborn/axisgrid.py:156: UserWarning: You have mixed positional and keyword arguments, some input may be discarded.\n",
      "  figlegend = self._figure.legend(handles, labels, **kwargs)\n"
     ]
    },
    {
     "data": {
      "image/png": "[encoded data removed]",
      "text/plain": [
       "<Figure size 1686.26x360 with 2 Axes>"
      ]
     },
     "metadata": {},
     "output_type": "display_data"
    }
   ],
   "source": [
    "from matplotlib.legend import Legend\n",
    "\n",
    "sns.set(rc={'figure.figsize':(11.7,8.27), \n",
    "            \"font.family\":\"Lato\", \n",
    "            # \"font.style\":\"italic\",\n",
    "            \"font.weight\": \"bold\",\n",
    "            'axes.edgecolor': 'black',\n",
    "            \"axes.labelweight\": \"bold\",\n",
    "            \"axes.titleweight\": \"bold\",\n",
    "            \"lines.linewidth\": 6}, \n",
    "        font=\"Lato\", \n",
    "        font_scale=2.2, \n",
    "        style=\"whitegrid\")\n",
    "\n",
    "# sns.set_theme()\n",
    "# hp = sns.histplot(data=df, x=\"METRIC\", hue=\"BUDGETS\", multiple=\"dodge\", shrink=0.8, cumulative=False)\n",
    "# hp.invert_xaxis()\n",
    "# hp.cumulative = True\n",
    "# hp.set_adjustable()\n",
    "# hp.set_axisbelow([\"1.0\"])\n",
    "\n",
    "# bp = sns.barplot(x=\"Attack Effectiveness\", y=\"Model Count\", hue=\"Epsilon\", dodge=True, data=df)\n",
    "\n",
    "# g = sns.FacetGrid(df, col=\"Attack Iter\")\n",
    "# g.map(sns.relplot, \"Attack Effectiveness\", \"Model Count\", hue=\"Epsilon\", style=\"Epsilon\", dashes=False, markers=True, kind=\"line\", data=df, palette=\"Set2\")\n",
    "\n",
    "\n",
    "rp = sns.relplot(x=\"Attack Effect\", \n",
    "                 y=\"Model Count\", \n",
    "                 hue=\"Epsilon\", \n",
    "                 style=\"Epsilon\", \n",
    "                 col=\"Attack Iter\",\n",
    "                 dashes=False, markers=True, kind=\"line\", data=df, palette=\"Set2\",\n",
    "                #  height=6,\n",
    "                 size=50,\n",
    "                 legend=False,\n",
    "                 aspect=1.4,\n",
    "                 markersize=15)\n",
    "# bp.invert_xaxis()\n",
    "# rp.add_legend\n",
    "rp.add_legend(bbox_to_anchor=(0.31, 1.14), \n",
    "              loc='upper center', \n",
    "              ncol=5, \n",
    "              title=\"Epsilon\", \n",
    "              labels=[\"8\", \"12\", \"16\", \"20\", \"24\"],\n",
    "              borderaxespad=0)\n",
    "rp.axes[0][0].xaxis.labelpad = 10\n",
    "rp.axes[0][1].xaxis.labelpad = 10\n",
    "rp.tight_layout()"
   ]
  },
  {
   "cell_type": "code",
   "execution_count": 21,
   "metadata": {},
   "outputs": [],
   "source": [
    "rp.figure.savefig(\"./output_figure/seg-pgd-res.pdf\", dpi=600, bbox_inches=\"tight\")"
   ]
  }
 ],
 "metadata": {
  "interpreter": {
   "hash": "b8559bc56280362ac4a83fb9144fe0dddf8b8d2e3eef0b8c805268e9624aba74"
  },
  "kernelspec": {
   "display_name": "Python 3.9.0 ('mob-dl-rev')",
   "language": "python",
   "name": "python3"
  },
  "language_info": {
   "codemirror_mode": {
    "name": "ipython",
    "version": 3
   },
   "file_extension": ".py",
   "mimetype": "text/x-python",
   "name": "python",
   "nbconvert_exporter": "python",
   "pygments_lexer": "ipython3",
   "version": "3.9.0"
  },
  "orig_nbformat": 4
 },
 "nbformat": 4,
 "nbformat_minor": 2
}
