{
 "cells": [
  {
   "cell_type": "code",
   "execution_count": null,
   "metadata": {},
   "outputs": [],
   "source": [
    "import tensorflow as tf\n",
    "import easydict\n",
    "import numpy as np"
   ]
  },
  {
   "cell_type": "code",
   "execution_count": null,
   "metadata": {},
   "outputs": [],
   "source": [
    "def load_pb(path_to_pb):\n",
    "    \"\"\"Load the .pb file and return graph\n",
    "\n",
    "    :param path_to_pb: The path of the .pb file\n",
    "    :type path_to_pb: str\n",
    "    :return: graph\n",
    "    :rtype: GraphDef\n",
    "    \"\"\"\n",
    "    with tf.compat.v1.gfile.GFile(path_to_pb, \"rb\") as f:\n",
    "        graph_def = tf.compat.v1.GraphDef()\n",
    "        graph_def.ParseFromString(f.read())\n",
    "    with tf.compat.v1.Graph().as_default() as graph:\n",
    "        tf.compat.v1.import_graph_def(graph_def, name='')\n",
    "        return graph, graph_def\n",
    "\n",
    "def analyze_inputs_outputs(graph):\n",
    "    \"\"\"Analyzing the graph and return the input node and output node\n",
    "\n",
    "    :param graph: The computation graph\n",
    "    :type graph: GraphDef\n",
    "    :return: [Input Node List, Output Node List]\n",
    "    :rtype: List\n",
    "    \"\"\"\n",
    "    ops = graph.get_operations()\n",
    "    outputs_set = set(ops)\n",
    "    inputs = []\n",
    "    for op in ops:\n",
    "        if len(op.inputs) == 0 and op.type != 'Const':\n",
    "            inputs.append(op)\n",
    "        else:\n",
    "            for input_tensor in op.inputs:\n",
    "                if input_tensor.op in outputs_set:\n",
    "                    outputs_set.remove(input_tensor.op)\n",
    "    outputs = list(outputs_set)\n",
    "    return (inputs, outputs)"
   ]
  },
  {
   "cell_type": "code",
   "execution_count": null,
   "metadata": {},
   "outputs": [],
   "source": [
    "path = \"/opt/Anonymous/workspace/mob-dl-rev/data/raw/tensorflow_model/2983d8d0b3d412cf548840100fa07673/tfImg.pb\"\n",
    "graph = load_pb(path)\n",
    "input_nodes, output_nodes = analyze_inputs_outputs(graph)\n",
    "print(\"Input Number: {}\".format(len(input_nodes)))\n",
    "print(\"Output Number: {}\".format(len(output_nodes)))"
   ]
  },
  {
   "cell_type": "code",
   "execution_count": null,
   "metadata": {},
   "outputs": [],
   "source": [
    "for in_node in input_nodes:\n",
    "    print(\"Input Node Name: \" + in_node.name)\n",
    "for out_node in output_nodes:\n",
    "    print(\"Out Node Name: \" + out_node.name)\n"
   ]
  },
  {
   "cell_type": "code",
   "execution_count": null,
   "metadata": {},
   "outputs": [],
   "source": [
    "input_tensor = graph.get_tensor_by_name('input:0')\n",
    "output_tensor = graph.get_tensor_by_name('output:0')"
   ]
  },
  {
   "cell_type": "code",
   "execution_count": null,
   "metadata": {},
   "outputs": [],
   "source": [
    "sess = tf.compat.v1.Session()\n",
    "tf.compat.v1.import_graph_def(graph)\n",
    "input_image = tf.constant(np.random.random(size=(1,224,224,3)))\n",
    "sess.run(output_tensor, feed_dict={input_tensor: input_image})"
   ]
  }
 ],
 "metadata": {
  "interpreter": {
   "hash": "b8559bc56280362ac4a83fb9144fe0dddf8b8d2e3eef0b8c805268e9624aba74"
  },
  "kernelspec": {
   "display_name": "Python 3.9.0 ('mob-dl-rev')",
   "language": "python",
   "name": "python3"
  },
  "language_info": {
   "codemirror_mode": {
    "name": "ipython",
    "version": 3
   },
   "file_extension": ".py",
   "mimetype": "text/x-python",
   "name": "python",
   "nbconvert_exporter": "python",
   "pygments_lexer": "ipython3",
   "version": "3.9.0"
  },
  "orig_nbformat": 4
 },
 "nbformat": 4,
 "nbformat_minor": 2
}
